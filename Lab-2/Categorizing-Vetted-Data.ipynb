{
 "cells": [
  {
   "cell_type": "markdown",
   "metadata": {},
   "source": [
    "# Machine Learning with Spark ML\n",
    "\n",
    "### In this notebook, we will explore machine learning using Spark ML. We will exploit Spark ML's high-level APIs built on top of DataFrames to create and tune machine learning pipelines. Spark ML Pipelines enable combining multiple algorithms into a single pipeline or workflow. We will utilize Spark ML's feature transformers to convert, modify and scale the features that will be used to develop the machine learning model. Finally, we will evaluate and cross validate our model to demonstrate the process of determining a best fit model and load the results in the database.\n",
    "\n",
    "### We are using machine learning to try to predict records that a human has not seen or vetted before. We will use these predictions to sort the highest priority records for a human to look at. We will use as a training set for the algorithm fake data that has been vetted by an analyst as high, medium or low.¶\n",
    "\n",
    "### We will use generated travel data that has been examined for patterns of Human Trafficking from DB2 Warehouse to do the machine learning.  We loaded this data in Lab 1.\n",
    "\n"
   ]
  },
  {
   "cell_type": "markdown",
   "metadata": {},
   "source": [
    "## Table of contents\n",
    "\n",
    "1. [Create Version](#version)\n",
    "1. [Install Packages](#install)\n",
    "1. [Connect to Database](#database)\n",
    "1. [Transform the data](#transform)\n",
    "1. [Feature Engineering](#engineering)\n",
    "1. [Model the data](#model)\n",
    "1. [Setup the Pipeline](#pipeline)\n",
    "1. [Train the model](#train)\n",
    "1. [Evaluate results](#evaluate)\n",
    "1. [Hyperparameter Tuning](#tuning)\n",
    "1. [Score the records](#score)\n",
    "1. [Insert Credentials](#credentials)\n",
    "1. [Write Results](#write)\n",
    "1. [Create New Version](#version2)\n",
    "1. [Schedule Job](#schedule)\n",
    "1. [Revert to Version](#revert)\n",
    "1. [Even More Help](#help)\n"
   ]
  },
  {
   "cell_type": "markdown",
   "metadata": {},
   "source": [
    "<a id=\"version\"></a>\n",
    "## Create Version \n",
    "\n",
    "Save a version of the notebook by selecting <b>File</b> > <b>Save Version</b> \n",
    "<img alt=\"IBM Bluemix.Get started now\" src=\"https://raw.githubusercontent.com/jpatter/LMCO/master/Lab-1/images/FileOptions.PNG\" > or by selecting the <b>Versions</b> icon and selecting <b>Save Version</b>. <img alt=\"IBM Bluemix.Get started now\" src=\"https://raw.githubusercontent.com/jpatter/LMCO/master/Lab-1/images/versions-button.png\" ><br>\n",
    "You can have up to ten (10) versions of a notebook.   Notebook versions are saved in a FIFO manner."
   ]
  },
  {
   "cell_type": "markdown",
   "metadata": {},
   "source": [
    "## Verify Spark version and existence of Spark"
   ]
  },
  {
   "cell_type": "code",
   "execution_count": 1,
   "metadata": {},
   "outputs": [
    {
     "name": "stdout",
     "output_type": "stream",
     "text": [
      "The spark version is 2.1.2.\n"
     ]
    }
   ],
   "source": [
    "print('The spark version is {}.'.format(spark.version))"
   ]
  },
  {
   "cell_type": "markdown",
   "metadata": {},
   "source": [
    "<a id=\"install\"></a>\n",
    "## Install pixiedust.  With this package we can do some nice visualizations."
   ]
  },
  {
   "cell_type": "code",
   "execution_count": 2,
   "metadata": {},
   "outputs": [
    {
     "name": "stdout",
     "output_type": "stream",
     "text": [
      "Requirement already satisfied: JayDeBeApi==0.2.0 in /usr/local/src/conda3_runtime.v32/home/envs/DSX-Python35-Spark/lib/python3.5/site-packages\n",
      "Requirement already satisfied: JPype1 in /usr/local/src/conda3_runtime.v32/home/envs/DSX-Python35-Spark/lib/python3.5/site-packages (from JayDeBeApi==0.2.0)\n",
      "Requirement already up-to-date: ibmdbpy in /usr/local/src/conda3_runtime.v32/home/envs/DSX-Python35-Spark/lib/python3.5/site-packages\n",
      "Requirement already up-to-date: future in /usr/local/src/conda3_runtime.v32/home/envs/DSX-Python35-Spark/lib/python3.5/site-packages (from ibmdbpy)\n",
      "Requirement already up-to-date: numpy in /gpfs/global_fs01/sym_shared/YPProdSpark/user/sf38-b8a2c1a38b5911-cd6445c4de1b/.local/lib/python3.5/site-packages (from ibmdbpy)\n",
      "Requirement already up-to-date: lazy in /usr/local/src/conda3_runtime.v32/home/envs/DSX-Python35-Spark/lib/python3.5/site-packages (from ibmdbpy)\n",
      "Requirement already up-to-date: pandas in /gpfs/global_fs01/sym_shared/YPProdSpark/user/sf38-b8a2c1a38b5911-cd6445c4de1b/.local/lib/python3.5/site-packages (from ibmdbpy)\n",
      "Collecting pypyodbc (from ibmdbpy)\n",
      "Requirement already up-to-date: six in /usr/local/src/conda3_runtime.v32/home/envs/DSX-Python35-Spark/lib/python3.5/site-packages (from ibmdbpy)\n",
      "Requirement already up-to-date: python-dateutil>=2 in /gpfs/global_fs01/sym_shared/YPProdSpark/user/sf38-b8a2c1a38b5911-cd6445c4de1b/.local/lib/python3.5/site-packages (from pandas->ibmdbpy)\n",
      "Requirement already up-to-date: pytz>=2011k in /gpfs/global_fs01/sym_shared/YPProdSpark/user/sf38-b8a2c1a38b5911-cd6445c4de1b/.local/lib/python3.5/site-packages (from pandas->ibmdbpy)\n",
      "Requirement already up-to-date: setuptools in /gpfs/global_fs01/sym_shared/YPProdSpark/user/sf38-b8a2c1a38b5911-cd6445c4de1b/.local/lib/python3.5/site-packages (from pypyodbc->ibmdbpy)\n",
      "Installing collected packages: pypyodbc\n",
      "  Found existing installation: pypyodbc 1.3.4\n",
      "    Uninstalling pypyodbc-1.3.4:\n",
      "      Successfully uninstalled pypyodbc-1.3.4\n",
      "Successfully installed pypyodbc-1.3.4\n",
      "Requirement already up-to-date: pixiedust in /usr/local/src/bluemix_jupyter_bundle.v89/notebook/lib/extra\n",
      "Requirement already up-to-date: markdown in /gpfs/global_fs01/sym_shared/YPProdSpark/user/sf38-b8a2c1a38b5911-cd6445c4de1b/.local/lib/python3.5/site-packages (from pixiedust)\n",
      "Requirement already up-to-date: astunparse in /usr/local/src/conda3_runtime.v32/home/envs/DSX-Python35-Spark/lib/python3.5/site-packages (from pixiedust)\n",
      "Requirement already up-to-date: lxml in /gpfs/global_fs01/sym_shared/YPProdSpark/user/sf38-b8a2c1a38b5911-cd6445c4de1b/.local/lib/python3.5/site-packages (from pixiedust)\n",
      "Requirement already up-to-date: geojson in /gpfs/global_fs01/sym_shared/YPProdSpark/user/sf38-b8a2c1a38b5911-cd6445c4de1b/.local/lib/python3.5/site-packages (from pixiedust)\n",
      "Requirement already up-to-date: mpld3 in /usr/local/src/conda3_runtime.v32/home/envs/DSX-Python35-Spark/lib/python3.5/site-packages (from pixiedust)\n",
      "Requirement already up-to-date: wheel<1.0,>=0.23.0 in /gpfs/global_fs01/sym_shared/YPProdSpark/user/sf38-b8a2c1a38b5911-cd6445c4de1b/.local/lib/python3.5/site-packages (from astunparse->pixiedust)\n",
      "Requirement already up-to-date: six<2.0,>=1.6.1 in /usr/local/src/conda3_runtime.v32/home/envs/DSX-Python35-Spark/lib/python3.5/site-packages (from astunparse->pixiedust)\n"
     ]
    }
   ],
   "source": [
    "!pip install --trusted-host pypi.python.org JayDeBeApi==0.2.0 --user\n",
    "!pip install --trusted-host pypi.python.org --user --upgrade ibmdbpy\n",
    "!pip install --trusted-host pypi.python.org --user --upgrade pixiedust"
   ]
  },
  {
   "cell_type": "markdown",
   "metadata": {},
   "source": [
    "## Import the required libraries"
   ]
  },
  {
   "cell_type": "code",
   "execution_count": 3,
   "metadata": {},
   "outputs": [
    {
     "name": "stdout",
     "output_type": "stream",
     "text": [
      "Pixiedust database opened successfully\n"
     ]
    },
    {
     "data": {
      "text/html": [
       "\n",
       "        <div style=\"margin:10px\">\n",
       "            <a href=\"https://github.com/ibm-watson-data-lab/pixiedust\" target=\"_new\">\n",
       "                <img src=\"https://github.com/ibm-watson-data-lab/pixiedust/raw/master/docs/_static/pd_icon32.png\" style=\"float:left;margin-right:10px\"/>\n",
       "            </a>\n",
       "            <span>Pixiedust version 1.1.9</span>\n",
       "        </div>\n",
       "        "
      ],
      "text/plain": [
       "<IPython.core.display.HTML object>"
      ]
     },
     "metadata": {},
     "output_type": "display_data"
    }
   ],
   "source": [
    "# Imports for DB2 Warehouse\n",
    "import jaydebeapi\n",
    "from ibmdbpy import IdaDataBase\n",
    "from ibmdbpy import IdaDataFrame\n",
    "\n",
    "#Imports for Spark\n",
    "from pyspark.ml.feature import StringIndexer, IndexToString\n",
    "from pyspark.ml.feature import Bucketizer\n",
    "from pyspark.mllib.linalg import Vectors\n",
    "from pyspark.ml.feature import VectorAssembler\n",
    "from pyspark.ml import Pipeline\n",
    "from pyspark.ml.feature import Normalizer\n",
    "from pyspark.ml.classification import LogisticRegression\n",
    "from pyspark.ml.evaluation import BinaryClassificationEvaluator\n",
    "from pyspark.ml.tuning import ParamGridBuilder, CrossValidator\n",
    "from pyspark.ml.classification import NaiveBayes, DecisionTreeClassifier\n",
    "from pyspark.sql.functions import year\n",
    "from pyspark.ml.tuning import ParamGridBuilder, CrossValidator\n",
    "\n",
    "# Imports for pixiedust\n",
    "from pixiedust.display import *"
   ]
  },
  {
   "cell_type": "markdown",
   "metadata": {},
   "source": [
    "<a id=\"database\"></a>\n",
    "## Connect to the database and read in our data\n",
    "\n",
    "Select the <b>Find and Add Data</b> icon <br>\n",
    "<img alt=\"IBM Bluemix.Get started now\" src=\"https://raw.githubusercontent.com/jpatter/LMCO/master/Lab-1/images/connections-button.png\" >\n",
    "\n",
    "Select the <b>Connections</b> view and then <b>Insert to code</b>.\n",
    "\n",
    "<img alt=\"IBM Bluemix.Get started now\" src=\"https://raw.githubusercontent.com/jpatter/LMCO/master/Lab-1/images/InsertToCode.PNG\" >\n",
    "\n",
    "Select <b>Insert SparkSession DataFrame</b> and select the schema (will start with DASH but will likely NOT be the same value you see in the image) and table (should only be one). Then select <b>Insert Code</b>.\n",
    "\n",
    "<img alt=\"IBM Bluemix.Get started now\" src=\"https://raw.githubusercontent.com/jpatter/LMCO/master/Lab-1/images/InsertCode.PNG\" ><br>\n",
    "Rename the result to <b>trafficking_df</b> to ensure compliance with the following cells.\n",
    "\n"
   ]
  },
  {
   "cell_type": "code",
   "execution_count": 4,
   "metadata": {},
   "outputs": [],
   "source": [
    "# enter this value \n",
    "table_postfix = \"\""
   ]
  },
  {
   "cell_type": "code",
   "execution_count": 5,
   "metadata": {},
   "outputs": [],
   "source": [
    "# Insert SparkSession DataFrame here\n",
    "# make CERTAIN to rename to trafficking_df\n",
    "\n",
    "from pyspark.sql import SparkSession\n",
    "spark = SparkSession.builder.getOrCreate()\n",
    "\n",
    "# @hidden_cell\n",
    "# The following code is used to access your data and contains your credentials.\n",
    "# You might want to remove those credentials before you share your notebook.\n",
    "\n",
    "db2_properties = {\n",
    "    'driver': 'com.ibm.db2.jcc.DB2Driver',\n",
    "    'jdbcurl': 'jdbc:db2://awh-yp-small03.services.dal.bluemix.net:50000/BLUDB',\n",
    "    'user': 'dash100756',\n",
    "    'password': '4uc8Ud_BA_dJ'\n",
    "}\n",
    "\n",
    "if not table_postfix:\n",
    "    print(\"You MUST enter a value for table_postfix to proceed.   It should be the same value you entered in Lab-1\")\n",
    "else:\n",
    "    table_name = db2_properties['user'] + \".\" + \"FEMALE_HUMAN_TRAFFICKING_\" + table_postfix\n",
    "    trafficking_df = spark.read.jdbc(db2_properties['jdbcurl'], table_name, properties=db2_properties)\n",
    "    trafficking_df.head()"
   ]
  },
  {
   "cell_type": "markdown",
   "metadata": {},
   "source": [
    "<a id=\"transform\"></a>\n",
    "## Identify our labels and transform \n",
    "\n",
    "We will use the 'VETTING_LEVEL' column as a label for training the machine learning model.  This is where our analyst has marked the data as vetted.  \n",
    "\n",
    "Spark ML requires that that the labels are data type Double, so we will cast the  column as Double (it was inferred as Integer when read into Spark).\n",
    "\n",
    "withColumn() is a Spark SQL way to manipulate a dataframe.  Since an RDD is immutable, we create a new RDD each time we transform.  This code creates a new column VettingTemp and sets it to the values in \"VETTING_LEVEL\" cast to a Double.    It then drops column VETTING_LEVEL and renames column VettingTemp to VETTING_LEVEL."
   ]
  },
  {
   "cell_type": "code",
   "execution_count": 6,
   "metadata": {},
   "outputs": [],
   "source": [
    "DataWithLabels = (trafficking_df.withColumn(\"VettingTemp\", trafficking_df[\"VETTING_LEVEL\"]\n",
    "    .cast(\"Double\")).drop(\"VETTING_LEVEL\").withColumnRenamed(\"VettingTemp\", \"VETTING_LEVEL\"))"
   ]
  },
  {
   "cell_type": "markdown",
   "metadata": {},
   "source": [
    "We want to use year of birth intead of date of birth in our learning.  \n",
    "\n",
    "Another way to transform an rdd in Spark is using SQL Syntax.  Here, we will be adding a new field, BIRTH_YEAR to our vetting set.  We will also just select the fields we need."
   ]
  },
  {
   "cell_type": "code",
   "execution_count": 7,
   "metadata": {},
   "outputs": [
    {
     "data": {
      "text/plain": [
       "907"
      ]
     },
     "execution_count": 7,
     "metadata": {},
     "output_type": "execute_result"
    }
   ],
   "source": [
    "DataWithLabels.createOrReplaceTempView(\"VettingData\")\n",
    "AllVettingData = sqlContext.sql (\"SELECT UUID, VETTING_LEVEL, NAME, OCCUPATION, COUNTRIES_VISITED_COUNT, PASSPORT_COUNTRY_CODE, GENDER, year(BIRTH_DATE) as BIRTH_YEAR, 1 as Counter FROM VettingData\")\n",
    "FilteredVettingData = AllVettingData.filter(\"VETTING_LEVEL==100\")\n",
    "\n",
    "FilteredVettingData.count()"
   ]
  },
  {
   "cell_type": "markdown",
   "metadata": {},
   "source": [
    "Use pixiedust to visually explore the data."
   ]
  },
  {
   "cell_type": "code",
   "execution_count": 8,
   "metadata": {
    "pixiedust": {
     "displayParams": {
      "aggregation": "SUM",
      "handlerId": "barChart",
      "keyFields": "VETTING_LEVEL",
      "rendererId": "bokeh",
      "rowCount": "100",
      "title": "Vetting level histogram",
      "valueFields": "Counter"
     }
    }
   },
   "outputs": [
    {
     "data": {
      "text/html": [
       "<style type=\"text/css\">.pd_warning{display:none;}</style><div class=\"pd_warning\"><em>Hey, there's something awesome here! To see it, open this notebook outside GitHub, in a viewer like Jupyter</em></div>\n",
       "        <div class=\"pd_save is-viewer-good\" style=\"padding-right:10px;text-align: center;line-height:initial !important;font-size: xx-large;font-weight: 500;color: coral;\">\n",
       "            Vetting level histogram\n",
       "        </div>\n",
       "    <div id=\"chartFigureddd66fc8\" class=\"pd_save is-viewer-good\" style=\"overflow-x:auto\">\n",
       "            \n",
       "                    <script class=\"pd_save\">\n",
       "                    function setChartScript() {\n",
       "                        if (!window.Bokeh) {\n",
       "                            setTimeout(setChartScript, 250)\n",
       "                        } else {\n",
       "                            var d = document.getElementById(\"pd-bkchartdiv-ddd66fc8\")\n",
       "                            if (d){\n",
       "                                var el = document.createElement('div')\n",
       "                                el.innerHTML = `\n",
       "<script type=\"text/javascript\">\n",
       "  (function() {\n",
       "    var fn = function() {\n",
       "      Bokeh.safely(function() {\n",
       "        (function(root) {\n",
       "          function embed_document(root) {\n",
       "            \n",
       "          var docs_json = '{\"847226a8-80e3-4d0f-90f1-de703fd1cbce\":{\"roots\":{\"references\":[{\"attributes\":{},\"id\":\"5c87d6a7-32d9-4270-aec5-9bbcd3c16a41\",\"type\":\"ResetTool\"},{\"attributes\":{\"data_source\":{\"id\":\"018eb082-b517-49d0-bbdb-29075d44feb6\",\"type\":\"ColumnDataSource\"},\"glyph\":{\"id\":\"5f79819b-84d3-4652-bba9-10dc6e1a25ba\",\"type\":\"VBar\"},\"hover_glyph\":null,\"muted_glyph\":null,\"nonselection_glyph\":{\"id\":\"23ab575b-24b5-4e9f-869c-5748432d9813\",\"type\":\"VBar\"},\"selection_glyph\":null,\"view\":{\"id\":\"b2c72376-f82b-4fd8-801f-0bbeaa9255c7\",\"type\":\"CDSView\"}},\"id\":\"38624974-6457-4b47-aeaf-055a69d78cda\",\"type\":\"GlyphRenderer\"},{\"attributes\":{},\"id\":\"4c141519-d988-49dd-b2c8-cb1a1baaff80\",\"type\":\"PanTool\"},{\"attributes\":{\"children\":[{\"id\":\"be169f07-5d2c-4dfb-a0a3-ff2c23cecfcf\",\"type\":\"ToolbarBox\"},{\"id\":\"1022b271-ee93-438d-806d-dbe07c8ec342\",\"type\":\"Column\"}]},\"id\":\"5030bb3b-35f7-4041-93a9-8a5eb4e3d958\",\"type\":\"Column\"},{\"attributes\":{\"axis_label\":\"VETTING_LEVEL\",\"formatter\":{\"id\":\"b10649a3-48fa-4fe5-930b-70c8291d7031\",\"type\":\"CategoricalTickFormatter\"},\"major_label_orientation\":1,\"major_label_text_color\":{\"value\":null},\"major_label_text_font_size\":{\"value\":\"0px\"},\"major_tick_line_color\":{\"value\":null},\"minor_tick_line_color\":{\"value\":null},\"plot\":{\"id\":\"0b0e6da7-1c0c-4c9d-ba35-272405f2623d\",\"subtype\":\"Figure\",\"type\":\"Plot\"},\"ticker\":{\"id\":\"11c5da9f-f878-4e0b-81ec-0737749dd7b6\",\"type\":\"CategoricalTicker\"}},\"id\":\"46f86772-c24f-411a-a268-ee973032c22e\",\"type\":\"CategoricalAxis\"},{\"attributes\":{\"tools\":[{\"id\":\"4c141519-d988-49dd-b2c8-cb1a1baaff80\",\"type\":\"PanTool\"},{\"id\":\"955e1146-7c6d-4302-a2b6-e5fd769f39cb\",\"type\":\"WheelZoomTool\"},{\"id\":\"fd1bd1b6-0506-4e91-ae15-6fc81d70628a\",\"type\":\"BoxZoomTool\"},{\"id\":\"039985de-cfb2-418f-bd38-4bf5c713c9dd\",\"type\":\"SaveTool\"},{\"id\":\"5c87d6a7-32d9-4270-aec5-9bbcd3c16a41\",\"type\":\"ResetTool\"},{\"id\":\"baff8793-517b-4fe3-acd3-09662be3295f\",\"type\":\"HelpTool\"}]},\"id\":\"e9eeb599-94b1-4395-ac60-4d24eff529dd\",\"type\":\"ProxyToolbar\"},{\"attributes\":{\"active_drag\":\"auto\",\"active_inspect\":\"auto\",\"active_scroll\":\"auto\",\"active_tap\":\"auto\",\"tools\":[{\"id\":\"4c141519-d988-49dd-b2c8-cb1a1baaff80\",\"type\":\"PanTool\"},{\"id\":\"955e1146-7c6d-4302-a2b6-e5fd769f39cb\",\"type\":\"WheelZoomTool\"},{\"id\":\"fd1bd1b6-0506-4e91-ae15-6fc81d70628a\",\"type\":\"BoxZoomTool\"},{\"id\":\"039985de-cfb2-418f-bd38-4bf5c713c9dd\",\"type\":\"SaveTool\"},{\"id\":\"5c87d6a7-32d9-4270-aec5-9bbcd3c16a41\",\"type\":\"ResetTool\"},{\"id\":\"baff8793-517b-4fe3-acd3-09662be3295f\",\"type\":\"HelpTool\"}]},\"id\":\"a7c3a0ed-5286-45e3-aff8-b8471f7b9cea\",\"type\":\"Toolbar\"},{\"attributes\":{\"children\":[{\"id\":\"24fd0f76-79fc-4776-a004-1ba9e3554c3a\",\"type\":\"Row\"}]},\"id\":\"1022b271-ee93-438d-806d-dbe07c8ec342\",\"type\":\"Column\"},{\"attributes\":{\"fill_color\":{\"field\":\"x\",\"transform\":{\"id\":\"b0d3eb28-e83e-408e-a493-ceb9af37ca57\",\"type\":\"CategoricalColorMapper\"}},\"line_color\":{\"field\":\"x\",\"transform\":{\"id\":\"b0d3eb28-e83e-408e-a493-ceb9af37ca57\",\"type\":\"CategoricalColorMapper\"}},\"top\":{\"field\":\"counts\"},\"width\":{\"value\":0.925},\"x\":{\"field\":\"x\"}},\"id\":\"5f79819b-84d3-4652-bba9-10dc6e1a25ba\",\"type\":\"VBar\"},{\"attributes\":{\"below\":[{\"id\":\"46f86772-c24f-411a-a268-ee973032c22e\",\"type\":\"CategoricalAxis\"}],\"left\":[{\"id\":\"f6325c4e-f658-46ae-8834-1501d635065f\",\"type\":\"LinearAxis\"}],\"outline_line_color\":{\"value\":null},\"plot_height\":495,\"plot_width\":1060,\"renderers\":[{\"id\":\"46f86772-c24f-411a-a268-ee973032c22e\",\"type\":\"CategoricalAxis\"},{\"id\":\"b9ab851a-d069-45d4-a955-653ec66babbc\",\"type\":\"Grid\"},{\"id\":\"f6325c4e-f658-46ae-8834-1501d635065f\",\"type\":\"LinearAxis\"},{\"id\":\"e16fb61b-9d05-49de-93da-63b25b605165\",\"type\":\"Grid\"},{\"id\":\"b63891a6-842c-4987-ba92-4ec91a1deb6a\",\"type\":\"BoxAnnotation\"},{\"id\":\"25f78f3f-c2b5-4238-ae27-b0dd9769d69b\",\"type\":\"Legend\"},{\"id\":\"38624974-6457-4b47-aeaf-055a69d78cda\",\"type\":\"GlyphRenderer\"}],\"title\":null,\"toolbar\":{\"id\":\"a7c3a0ed-5286-45e3-aff8-b8471f7b9cea\",\"type\":\"Toolbar\"},\"toolbar_location\":null,\"x_range\":{\"id\":\"18ee506c-a65a-46d7-96ff-8f78c66991c6\",\"type\":\"FactorRange\"},\"x_scale\":{\"id\":\"ad07ae8f-f4d4-44dd-86a4-e8d2aa3dd7ca\",\"type\":\"CategoricalScale\"},\"y_range\":{\"id\":\"bc901d25-6817-475d-9f71-a294b308b403\",\"type\":\"DataRange1d\"},\"y_scale\":{\"id\":\"becca9ad-f318-4bc7-bb56-2521d2b4c5f3\",\"type\":\"LinearScale\"}},\"id\":\"0b0e6da7-1c0c-4c9d-ba35-272405f2623d\",\"subtype\":\"Figure\",\"type\":\"Plot\"},{\"attributes\":{},\"id\":\"ad07ae8f-f4d4-44dd-86a4-e8d2aa3dd7ca\",\"type\":\"CategoricalScale\"},{\"attributes\":{\"overlay\":{\"id\":\"b63891a6-842c-4987-ba92-4ec91a1deb6a\",\"type\":\"BoxAnnotation\"}},\"id\":\"fd1bd1b6-0506-4e91-ae15-6fc81d70628a\",\"type\":\"BoxZoomTool\"},{\"attributes\":{},\"id\":\"becca9ad-f318-4bc7-bb56-2521d2b4c5f3\",\"type\":\"LinearScale\"},{\"attributes\":{\"fill_alpha\":{\"value\":0.1},\"fill_color\":{\"value\":\"#1f77b4\"},\"line_alpha\":{\"value\":0.1},\"line_color\":{\"value\":\"#1f77b4\"},\"top\":{\"field\":\"counts\"},\"width\":{\"value\":0.925},\"x\":{\"field\":\"x\"}},\"id\":\"23ab575b-24b5-4e9f-869c-5748432d9813\",\"type\":\"VBar\"},{\"attributes\":{\"callback\":null,\"start\":0},\"id\":\"bc901d25-6817-475d-9f71-a294b308b403\",\"type\":\"DataRange1d\"},{\"attributes\":{},\"id\":\"955e1146-7c6d-4302-a2b6-e5fd769f39cb\",\"type\":\"WheelZoomTool\"},{\"attributes\":{},\"id\":\"b10649a3-48fa-4fe5-930b-70c8291d7031\",\"type\":\"CategoricalTickFormatter\"},{\"attributes\":{\"source\":{\"id\":\"018eb082-b517-49d0-bbdb-29075d44feb6\",\"type\":\"ColumnDataSource\"}},\"id\":\"b2c72376-f82b-4fd8-801f-0bbeaa9255c7\",\"type\":\"CDSView\"},{\"attributes\":{\"items\":[{\"id\":\"b73954ee-adca-4254-b301-6cfca9d23bc4\",\"type\":\"LegendItem\"}],\"location\":\"top_left\",\"plot\":{\"id\":\"0b0e6da7-1c0c-4c9d-ba35-272405f2623d\",\"subtype\":\"Figure\",\"type\":\"Plot\"}},\"id\":\"25f78f3f-c2b5-4238-ae27-b0dd9769d69b\",\"type\":\"Legend\"},{\"attributes\":{},\"id\":\"039985de-cfb2-418f-bd38-4bf5c713c9dd\",\"type\":\"SaveTool\"},{\"attributes\":{\"label\":{\"field\":\"l\"},\"renderers\":[{\"id\":\"38624974-6457-4b47-aeaf-055a69d78cda\",\"type\":\"GlyphRenderer\"}]},\"id\":\"b73954ee-adca-4254-b301-6cfca9d23bc4\",\"type\":\"LegendItem\"},{\"attributes\":{},\"id\":\"11c5da9f-f878-4e0b-81ec-0737749dd7b6\",\"type\":\"CategoricalTicker\"},{\"attributes\":{},\"id\":\"e99e1fee-4511-4eb5-8292-197cd73acada\",\"type\":\"BasicTickFormatter\"},{\"attributes\":{},\"id\":\"baff8793-517b-4fe3-acd3-09662be3295f\",\"type\":\"HelpTool\"},{\"attributes\":{\"dimension\":1,\"plot\":{\"id\":\"0b0e6da7-1c0c-4c9d-ba35-272405f2623d\",\"subtype\":\"Figure\",\"type\":\"Plot\"},\"ticker\":{\"id\":\"fc437de4-36a5-46e5-bb44-1675b45dbadd\",\"type\":\"BasicTicker\"}},\"id\":\"e16fb61b-9d05-49de-93da-63b25b605165\",\"type\":\"Grid\"},{\"attributes\":{\"children\":[{\"id\":\"0b0e6da7-1c0c-4c9d-ba35-272405f2623d\",\"subtype\":\"Figure\",\"type\":\"Plot\"}]},\"id\":\"24fd0f76-79fc-4776-a004-1ba9e3554c3a\",\"type\":\"Row\"},{\"attributes\":{\"axis_label\":\"Counter\",\"formatter\":{\"id\":\"e99e1fee-4511-4eb5-8292-197cd73acada\",\"type\":\"BasicTickFormatter\"},\"minor_tick_line_color\":{\"value\":null},\"plot\":{\"id\":\"0b0e6da7-1c0c-4c9d-ba35-272405f2623d\",\"subtype\":\"Figure\",\"type\":\"Plot\"},\"ticker\":{\"id\":\"fc437de4-36a5-46e5-bb44-1675b45dbadd\",\"type\":\"BasicTicker\"}},\"id\":\"f6325c4e-f658-46ae-8834-1501d635065f\",\"type\":\"LinearAxis\"},{\"attributes\":{},\"id\":\"fc437de4-36a5-46e5-bb44-1675b45dbadd\",\"type\":\"BasicTicker\"},{\"attributes\":{\"callback\":null,\"factors\":[[\"10.0\",\"Counter\"],[\"20.0\",\"Counter\"],[\"30.0\",\"Counter\"],[\"100.0\",\"Counter\"]],\"range_padding\":0.1},\"id\":\"18ee506c-a65a-46d7-96ff-8f78c66991c6\",\"type\":\"FactorRange\"},{\"attributes\":{\"grid_line_color\":{\"value\":null},\"plot\":{\"id\":\"0b0e6da7-1c0c-4c9d-ba35-272405f2623d\",\"subtype\":\"Figure\",\"type\":\"Plot\"},\"ticker\":{\"id\":\"11c5da9f-f878-4e0b-81ec-0737749dd7b6\",\"type\":\"CategoricalTicker\"}},\"id\":\"b9ab851a-d069-45d4-a955-653ec66babbc\",\"type\":\"Grid\"},{\"attributes\":{\"bottom_units\":\"screen\",\"fill_alpha\":{\"value\":0.5},\"fill_color\":{\"value\":\"lightgrey\"},\"left_units\":\"screen\",\"level\":\"overlay\",\"line_alpha\":{\"value\":1.0},\"line_color\":{\"value\":\"black\"},\"line_dash\":[4,4],\"line_width\":{\"value\":2},\"plot\":null,\"render_mode\":\"css\",\"right_units\":\"screen\",\"top_units\":\"screen\"},\"id\":\"b63891a6-842c-4987-ba92-4ec91a1deb6a\",\"type\":\"BoxAnnotation\"},{\"attributes\":{\"toolbar\":{\"id\":\"e9eeb599-94b1-4395-ac60-4d24eff529dd\",\"type\":\"ProxyToolbar\"},\"toolbar_location\":\"above\"},\"id\":\"be169f07-5d2c-4dfb-a0a3-ff2c23cecfcf\",\"type\":\"ToolbarBox\"},{\"attributes\":{\"callback\":null,\"column_names\":[\"l\",\"counts\",\"x\"],\"data\":{\"counts\":[42.0,40.0,96.0,907.0],\"l\":[\"Counter\",\"Counter\",\"Counter\",\"Counter\"],\"x\":[[\"10.0\",\"Counter\"],[\"20.0\",\"Counter\"],[\"30.0\",\"Counter\"],[\"100.0\",\"Counter\"]]},\"selected\":null,\"selection_policy\":null},\"id\":\"018eb082-b517-49d0-bbdb-29075d44feb6\",\"type\":\"ColumnDataSource\"},{\"attributes\":{\"end\":2,\"factors\":[\"Counter\"],\"palette\":[\"#1f77b4\"],\"start\":1},\"id\":\"b0d3eb28-e83e-408e-a493-ceb9af37ca57\",\"type\":\"CategoricalColorMapper\"}],\"root_ids\":[\"5030bb3b-35f7-4041-93a9-8a5eb4e3d958\"]},\"title\":\"Bokeh Application\",\"version\":\"0.12.15\"}}';\n",
       "          var render_items = [{\"docid\":\"847226a8-80e3-4d0f-90f1-de703fd1cbce\",\"elementid\":\"803c5363-bf7e-4f5b-afe9-e286b60095cb\",\"modelid\":\"5030bb3b-35f7-4041-93a9-8a5eb4e3d958\"}];\n",
       "          root.Bokeh.embed.embed_items(docs_json, render_items);\n",
       "        \n",
       "          }\n",
       "          if (root.Bokeh !== undefined) {\n",
       "            embed_document(root);\n",
       "          } else {\n",
       "            var attempts = 0;\n",
       "            var timer = setInterval(function(root) {\n",
       "              if (root.Bokeh !== undefined) {\n",
       "                embed_document(root);\n",
       "                clearInterval(timer);\n",
       "              }\n",
       "              attempts++;\n",
       "              if (attempts > 100) {\n",
       "                console.log(\"Bokeh: ERROR: Unable to run BokehJS code because BokehJS library is missing\")\n",
       "                clearInterval(timer);\n",
       "              }\n",
       "            }, 10, root)\n",
       "          }\n",
       "        })(window);\n",
       "      });\n",
       "    };\n",
       "    if (document.readyState != \"loading\") fn();\n",
       "    else document.addEventListener(\"DOMContentLoaded\", fn);\n",
       "  })();\n",
       "<\\/script>`\n",
       "                                var chartscript = el.childNodes[1]\n",
       "                                var s = document.createElement(\"script\")\n",
       "                                s.innerHTML = chartscript.innerHTML\n",
       "                                d.parentNode.insertBefore(s, d)\n",
       "                            }\n",
       "                        }\n",
       "                    }\n",
       "                    if (!window.Bokeh && !window.autoload){\n",
       "                        window.autoload=true;\n",
       "                        \n",
       "(function(root) {\n",
       "  function now() {\n",
       "    return new Date();\n",
       "  }\n",
       "\n",
       "  var force = 1;\n",
       "\n",
       "  if (typeof (root._bokeh_onload_callbacks) === \"undefined\" || force === true) {\n",
       "    root._bokeh_onload_callbacks = [];\n",
       "    root._bokeh_is_loading = undefined;\n",
       "  }\n",
       "\n",
       "  \n",
       "\n",
       "  \n",
       "  if (typeof (root._bokeh_timeout) === \"undefined\" || force === true) {\n",
       "    root._bokeh_timeout = Date.now() + 5000;\n",
       "    root._bokeh_failed_load = false;\n",
       "  }\n",
       "\n",
       "  var NB_LOAD_WARNING = {'data': {'text/html':\n",
       "     \"<div style='background-color: #fdd'>\\n\"+\n",
       "     \"<p>\\n\"+\n",
       "     \"BokehJS does not appear to have successfully loaded. If loading BokehJS from CDN, this \\n\"+\n",
       "     \"may be due to a slow or bad network connection. Possible fixes:\\n\"+\n",
       "     \"</p>\\n\"+\n",
       "     \"<ul>\\n\"+\n",
       "     \"<li>re-rerun `output_notebook()` to attempt to load from CDN again, or</li>\\n\"+\n",
       "     \"<li>use INLINE resources instead, as so:</li>\\n\"+\n",
       "     \"</ul>\\n\"+\n",
       "     \"<code>\\n\"+\n",
       "     \"from bokeh.resources import INLINE\\n\"+\n",
       "     \"output_notebook(resources=INLINE)\\n\"+\n",
       "     \"</code>\\n\"+\n",
       "     \"</div>\"}};\n",
       "\n",
       "  function display_loaded() {\n",
       "    var el = document.getElementById(\"\");\n",
       "    if (el != null) {\n",
       "      el.textContent = \"BokehJS is loading...\";\n",
       "    }\n",
       "    if (root.Bokeh !== undefined) {\n",
       "      if (el != null) {\n",
       "        el.textContent = \"BokehJS \" + root.Bokeh.version + \" successfully loaded.\";\n",
       "      }\n",
       "    } else if (Date.now() < root._bokeh_timeout) {\n",
       "      setTimeout(display_loaded, 100)\n",
       "    }\n",
       "  }\n",
       "\n",
       "\n",
       "  function run_callbacks() {\n",
       "    try {\n",
       "      root._bokeh_onload_callbacks.forEach(function(callback) { callback() });\n",
       "    }\n",
       "    finally {\n",
       "      delete root._bokeh_onload_callbacks\n",
       "    }\n",
       "    console.info(\"Bokeh: all callbacks have finished\");\n",
       "  }\n",
       "\n",
       "  function load_libs(js_urls, callback) {\n",
       "    root._bokeh_onload_callbacks.push(callback);\n",
       "    if (root._bokeh_is_loading > 0) {\n",
       "      console.log(\"Bokeh: BokehJS is being loaded, scheduling callback at\", now());\n",
       "      return null;\n",
       "    }\n",
       "    if (js_urls == null || js_urls.length === 0) {\n",
       "      run_callbacks();\n",
       "      return null;\n",
       "    }\n",
       "    console.log(\"Bokeh: BokehJS not loaded, scheduling load and callback at\", now());\n",
       "    root._bokeh_is_loading = js_urls.length;\n",
       "    for (var i = 0; i < js_urls.length; i++) {\n",
       "      var url = js_urls[i];\n",
       "      var s = document.createElement('script');\n",
       "      s.src = url;\n",
       "      s.async = false;\n",
       "      s.onreadystatechange = s.onload = function() {\n",
       "        root._bokeh_is_loading--;\n",
       "        if (root._bokeh_is_loading === 0) {\n",
       "          console.log(\"Bokeh: all BokehJS libraries loaded\");\n",
       "          run_callbacks()\n",
       "        }\n",
       "      };\n",
       "      s.onerror = function() {\n",
       "        console.warn(\"failed to load library \" + url);\n",
       "      };\n",
       "      console.log(\"Bokeh: injecting script tag for BokehJS library: \", url);\n",
       "      document.getElementsByTagName(\"head\")[0].appendChild(s);\n",
       "    }\n",
       "  };\n",
       "\n",
       "  var js_urls = [\"https://cdn.pydata.org/bokeh/release/bokeh-0.12.15.min.js\", \"https://cdn.pydata.org/bokeh/release/bokeh-widgets-0.12.15.min.js\", \"https://cdn.pydata.org/bokeh/release/bokeh-tables-0.12.15.min.js\", \"https://cdn.pydata.org/bokeh/release/bokeh-gl-0.12.15.min.js\"];\n",
       "\n",
       "  var inline_js = [\n",
       "    function(Bokeh) {\n",
       "      Bokeh.set_log_level(\"info\");\n",
       "    },\n",
       "    function(Bokeh) {\n",
       "      console.log(\"Bokeh: injecting CSS: https://cdn.pydata.org/bokeh/release/bokeh-0.12.15.min.css\");\n",
       "      Bokeh.embed.inject_css(\"https://cdn.pydata.org/bokeh/release/bokeh-0.12.15.min.css\");\n",
       "      console.log(\"Bokeh: injecting CSS: https://cdn.pydata.org/bokeh/release/bokeh-widgets-0.12.15.min.css\");\n",
       "      Bokeh.embed.inject_css(\"https://cdn.pydata.org/bokeh/release/bokeh-widgets-0.12.15.min.css\");\n",
       "      console.log(\"Bokeh: injecting CSS: https://cdn.pydata.org/bokeh/release/bokeh-tables-0.12.15.min.css\");\n",
       "      Bokeh.embed.inject_css(\"https://cdn.pydata.org/bokeh/release/bokeh-tables-0.12.15.min.css\");\n",
       "    }\n",
       "  ];\n",
       "\n",
       "  function run_inline_js() {\n",
       "    \n",
       "    if ((root.Bokeh !== undefined) || (force === true)) {\n",
       "      for (var i = 0; i < inline_js.length; i++) {\n",
       "        inline_js[i].call(root, root.Bokeh);\n",
       "      }} else if (Date.now() < root._bokeh_timeout) {\n",
       "      setTimeout(run_inline_js, 100);\n",
       "    } else if (!root._bokeh_failed_load) {\n",
       "      console.log(\"Bokeh: BokehJS failed to load within specified timeout.\");\n",
       "      root._bokeh_failed_load = true;\n",
       "    } else if (force !== true) {\n",
       "      var cell = $(document.getElementById(\"\")).parents('.cell').data().cell;\n",
       "      cell.output_area.append_execute_result(NB_LOAD_WARNING)\n",
       "    }\n",
       "\n",
       "  }\n",
       "\n",
       "  if (root._bokeh_is_loading === 0) {\n",
       "    console.log(\"Bokeh: BokehJS loaded, going straight to plotting\");\n",
       "    run_inline_js();\n",
       "  } else {\n",
       "    load_libs(js_urls, function() {\n",
       "      console.log(\"Bokeh: BokehJS plotting callback run at\", now());\n",
       "      run_inline_js();\n",
       "    });\n",
       "  }\n",
       "}(window));\n",
       "                    }\n",
       "                    setChartScript()\n",
       "                    </script>\n",
       "                    <script>\n",
       "  (function() {\n",
       "    var fn = function() {\n",
       "      Bokeh.safely(function() {\n",
       "        (function(root) {\n",
       "          function embed_document(root) {\n",
       "            \n",
       "          var docs_json = '{\"847226a8-80e3-4d0f-90f1-de703fd1cbce\":{\"roots\":{\"references\":[{\"attributes\":{},\"id\":\"5c87d6a7-32d9-4270-aec5-9bbcd3c16a41\",\"type\":\"ResetTool\"},{\"attributes\":{\"data_source\":{\"id\":\"018eb082-b517-49d0-bbdb-29075d44feb6\",\"type\":\"ColumnDataSource\"},\"glyph\":{\"id\":\"5f79819b-84d3-4652-bba9-10dc6e1a25ba\",\"type\":\"VBar\"},\"hover_glyph\":null,\"muted_glyph\":null,\"nonselection_glyph\":{\"id\":\"23ab575b-24b5-4e9f-869c-5748432d9813\",\"type\":\"VBar\"},\"selection_glyph\":null,\"view\":{\"id\":\"b2c72376-f82b-4fd8-801f-0bbeaa9255c7\",\"type\":\"CDSView\"}},\"id\":\"38624974-6457-4b47-aeaf-055a69d78cda\",\"type\":\"GlyphRenderer\"},{\"attributes\":{},\"id\":\"4c141519-d988-49dd-b2c8-cb1a1baaff80\",\"type\":\"PanTool\"},{\"attributes\":{\"children\":[{\"id\":\"be169f07-5d2c-4dfb-a0a3-ff2c23cecfcf\",\"type\":\"ToolbarBox\"},{\"id\":\"1022b271-ee93-438d-806d-dbe07c8ec342\",\"type\":\"Column\"}]},\"id\":\"5030bb3b-35f7-4041-93a9-8a5eb4e3d958\",\"type\":\"Column\"},{\"attributes\":{\"axis_label\":\"VETTING_LEVEL\",\"formatter\":{\"id\":\"b10649a3-48fa-4fe5-930b-70c8291d7031\",\"type\":\"CategoricalTickFormatter\"},\"major_label_orientation\":1,\"major_label_text_color\":{\"value\":null},\"major_label_text_font_size\":{\"value\":\"0px\"},\"major_tick_line_color\":{\"value\":null},\"minor_tick_line_color\":{\"value\":null},\"plot\":{\"id\":\"0b0e6da7-1c0c-4c9d-ba35-272405f2623d\",\"subtype\":\"Figure\",\"type\":\"Plot\"},\"ticker\":{\"id\":\"11c5da9f-f878-4e0b-81ec-0737749dd7b6\",\"type\":\"CategoricalTicker\"}},\"id\":\"46f86772-c24f-411a-a268-ee973032c22e\",\"type\":\"CategoricalAxis\"},{\"attributes\":{\"tools\":[{\"id\":\"4c141519-d988-49dd-b2c8-cb1a1baaff80\",\"type\":\"PanTool\"},{\"id\":\"955e1146-7c6d-4302-a2b6-e5fd769f39cb\",\"type\":\"WheelZoomTool\"},{\"id\":\"fd1bd1b6-0506-4e91-ae15-6fc81d70628a\",\"type\":\"BoxZoomTool\"},{\"id\":\"039985de-cfb2-418f-bd38-4bf5c713c9dd\",\"type\":\"SaveTool\"},{\"id\":\"5c87d6a7-32d9-4270-aec5-9bbcd3c16a41\",\"type\":\"ResetTool\"},{\"id\":\"baff8793-517b-4fe3-acd3-09662be3295f\",\"type\":\"HelpTool\"}]},\"id\":\"e9eeb599-94b1-4395-ac60-4d24eff529dd\",\"type\":\"ProxyToolbar\"},{\"attributes\":{\"active_drag\":\"auto\",\"active_inspect\":\"auto\",\"active_scroll\":\"auto\",\"active_tap\":\"auto\",\"tools\":[{\"id\":\"4c141519-d988-49dd-b2c8-cb1a1baaff80\",\"type\":\"PanTool\"},{\"id\":\"955e1146-7c6d-4302-a2b6-e5fd769f39cb\",\"type\":\"WheelZoomTool\"},{\"id\":\"fd1bd1b6-0506-4e91-ae15-6fc81d70628a\",\"type\":\"BoxZoomTool\"},{\"id\":\"039985de-cfb2-418f-bd38-4bf5c713c9dd\",\"type\":\"SaveTool\"},{\"id\":\"5c87d6a7-32d9-4270-aec5-9bbcd3c16a41\",\"type\":\"ResetTool\"},{\"id\":\"baff8793-517b-4fe3-acd3-09662be3295f\",\"type\":\"HelpTool\"}]},\"id\":\"a7c3a0ed-5286-45e3-aff8-b8471f7b9cea\",\"type\":\"Toolbar\"},{\"attributes\":{\"children\":[{\"id\":\"24fd0f76-79fc-4776-a004-1ba9e3554c3a\",\"type\":\"Row\"}]},\"id\":\"1022b271-ee93-438d-806d-dbe07c8ec342\",\"type\":\"Column\"},{\"attributes\":{\"fill_color\":{\"field\":\"x\",\"transform\":{\"id\":\"b0d3eb28-e83e-408e-a493-ceb9af37ca57\",\"type\":\"CategoricalColorMapper\"}},\"line_color\":{\"field\":\"x\",\"transform\":{\"id\":\"b0d3eb28-e83e-408e-a493-ceb9af37ca57\",\"type\":\"CategoricalColorMapper\"}},\"top\":{\"field\":\"counts\"},\"width\":{\"value\":0.925},\"x\":{\"field\":\"x\"}},\"id\":\"5f79819b-84d3-4652-bba9-10dc6e1a25ba\",\"type\":\"VBar\"},{\"attributes\":{\"below\":[{\"id\":\"46f86772-c24f-411a-a268-ee973032c22e\",\"type\":\"CategoricalAxis\"}],\"left\":[{\"id\":\"f6325c4e-f658-46ae-8834-1501d635065f\",\"type\":\"LinearAxis\"}],\"outline_line_color\":{\"value\":null},\"plot_height\":495,\"plot_width\":1060,\"renderers\":[{\"id\":\"46f86772-c24f-411a-a268-ee973032c22e\",\"type\":\"CategoricalAxis\"},{\"id\":\"b9ab851a-d069-45d4-a955-653ec66babbc\",\"type\":\"Grid\"},{\"id\":\"f6325c4e-f658-46ae-8834-1501d635065f\",\"type\":\"LinearAxis\"},{\"id\":\"e16fb61b-9d05-49de-93da-63b25b605165\",\"type\":\"Grid\"},{\"id\":\"b63891a6-842c-4987-ba92-4ec91a1deb6a\",\"type\":\"BoxAnnotation\"},{\"id\":\"25f78f3f-c2b5-4238-ae27-b0dd9769d69b\",\"type\":\"Legend\"},{\"id\":\"38624974-6457-4b47-aeaf-055a69d78cda\",\"type\":\"GlyphRenderer\"}],\"title\":null,\"toolbar\":{\"id\":\"a7c3a0ed-5286-45e3-aff8-b8471f7b9cea\",\"type\":\"Toolbar\"},\"toolbar_location\":null,\"x_range\":{\"id\":\"18ee506c-a65a-46d7-96ff-8f78c66991c6\",\"type\":\"FactorRange\"},\"x_scale\":{\"id\":\"ad07ae8f-f4d4-44dd-86a4-e8d2aa3dd7ca\",\"type\":\"CategoricalScale\"},\"y_range\":{\"id\":\"bc901d25-6817-475d-9f71-a294b308b403\",\"type\":\"DataRange1d\"},\"y_scale\":{\"id\":\"becca9ad-f318-4bc7-bb56-2521d2b4c5f3\",\"type\":\"LinearScale\"}},\"id\":\"0b0e6da7-1c0c-4c9d-ba35-272405f2623d\",\"subtype\":\"Figure\",\"type\":\"Plot\"},{\"attributes\":{},\"id\":\"ad07ae8f-f4d4-44dd-86a4-e8d2aa3dd7ca\",\"type\":\"CategoricalScale\"},{\"attributes\":{\"overlay\":{\"id\":\"b63891a6-842c-4987-ba92-4ec91a1deb6a\",\"type\":\"BoxAnnotation\"}},\"id\":\"fd1bd1b6-0506-4e91-ae15-6fc81d70628a\",\"type\":\"BoxZoomTool\"},{\"attributes\":{},\"id\":\"becca9ad-f318-4bc7-bb56-2521d2b4c5f3\",\"type\":\"LinearScale\"},{\"attributes\":{\"fill_alpha\":{\"value\":0.1},\"fill_color\":{\"value\":\"#1f77b4\"},\"line_alpha\":{\"value\":0.1},\"line_color\":{\"value\":\"#1f77b4\"},\"top\":{\"field\":\"counts\"},\"width\":{\"value\":0.925},\"x\":{\"field\":\"x\"}},\"id\":\"23ab575b-24b5-4e9f-869c-5748432d9813\",\"type\":\"VBar\"},{\"attributes\":{\"callback\":null,\"start\":0},\"id\":\"bc901d25-6817-475d-9f71-a294b308b403\",\"type\":\"DataRange1d\"},{\"attributes\":{},\"id\":\"955e1146-7c6d-4302-a2b6-e5fd769f39cb\",\"type\":\"WheelZoomTool\"},{\"attributes\":{},\"id\":\"b10649a3-48fa-4fe5-930b-70c8291d7031\",\"type\":\"CategoricalTickFormatter\"},{\"attributes\":{\"source\":{\"id\":\"018eb082-b517-49d0-bbdb-29075d44feb6\",\"type\":\"ColumnDataSource\"}},\"id\":\"b2c72376-f82b-4fd8-801f-0bbeaa9255c7\",\"type\":\"CDSView\"},{\"attributes\":{\"items\":[{\"id\":\"b73954ee-adca-4254-b301-6cfca9d23bc4\",\"type\":\"LegendItem\"}],\"location\":\"top_left\",\"plot\":{\"id\":\"0b0e6da7-1c0c-4c9d-ba35-272405f2623d\",\"subtype\":\"Figure\",\"type\":\"Plot\"}},\"id\":\"25f78f3f-c2b5-4238-ae27-b0dd9769d69b\",\"type\":\"Legend\"},{\"attributes\":{},\"id\":\"039985de-cfb2-418f-bd38-4bf5c713c9dd\",\"type\":\"SaveTool\"},{\"attributes\":{\"label\":{\"field\":\"l\"},\"renderers\":[{\"id\":\"38624974-6457-4b47-aeaf-055a69d78cda\",\"type\":\"GlyphRenderer\"}]},\"id\":\"b73954ee-adca-4254-b301-6cfca9d23bc4\",\"type\":\"LegendItem\"},{\"attributes\":{},\"id\":\"11c5da9f-f878-4e0b-81ec-0737749dd7b6\",\"type\":\"CategoricalTicker\"},{\"attributes\":{},\"id\":\"e99e1fee-4511-4eb5-8292-197cd73acada\",\"type\":\"BasicTickFormatter\"},{\"attributes\":{},\"id\":\"baff8793-517b-4fe3-acd3-09662be3295f\",\"type\":\"HelpTool\"},{\"attributes\":{\"dimension\":1,\"plot\":{\"id\":\"0b0e6da7-1c0c-4c9d-ba35-272405f2623d\",\"subtype\":\"Figure\",\"type\":\"Plot\"},\"ticker\":{\"id\":\"fc437de4-36a5-46e5-bb44-1675b45dbadd\",\"type\":\"BasicTicker\"}},\"id\":\"e16fb61b-9d05-49de-93da-63b25b605165\",\"type\":\"Grid\"},{\"attributes\":{\"children\":[{\"id\":\"0b0e6da7-1c0c-4c9d-ba35-272405f2623d\",\"subtype\":\"Figure\",\"type\":\"Plot\"}]},\"id\":\"24fd0f76-79fc-4776-a004-1ba9e3554c3a\",\"type\":\"Row\"},{\"attributes\":{\"axis_label\":\"Counter\",\"formatter\":{\"id\":\"e99e1fee-4511-4eb5-8292-197cd73acada\",\"type\":\"BasicTickFormatter\"},\"minor_tick_line_color\":{\"value\":null},\"plot\":{\"id\":\"0b0e6da7-1c0c-4c9d-ba35-272405f2623d\",\"subtype\":\"Figure\",\"type\":\"Plot\"},\"ticker\":{\"id\":\"fc437de4-36a5-46e5-bb44-1675b45dbadd\",\"type\":\"BasicTicker\"}},\"id\":\"f6325c4e-f658-46ae-8834-1501d635065f\",\"type\":\"LinearAxis\"},{\"attributes\":{},\"id\":\"fc437de4-36a5-46e5-bb44-1675b45dbadd\",\"type\":\"BasicTicker\"},{\"attributes\":{\"callback\":null,\"factors\":[[\"10.0\",\"Counter\"],[\"20.0\",\"Counter\"],[\"30.0\",\"Counter\"],[\"100.0\",\"Counter\"]],\"range_padding\":0.1},\"id\":\"18ee506c-a65a-46d7-96ff-8f78c66991c6\",\"type\":\"FactorRange\"},{\"attributes\":{\"grid_line_color\":{\"value\":null},\"plot\":{\"id\":\"0b0e6da7-1c0c-4c9d-ba35-272405f2623d\",\"subtype\":\"Figure\",\"type\":\"Plot\"},\"ticker\":{\"id\":\"11c5da9f-f878-4e0b-81ec-0737749dd7b6\",\"type\":\"CategoricalTicker\"}},\"id\":\"b9ab851a-d069-45d4-a955-653ec66babbc\",\"type\":\"Grid\"},{\"attributes\":{\"bottom_units\":\"screen\",\"fill_alpha\":{\"value\":0.5},\"fill_color\":{\"value\":\"lightgrey\"},\"left_units\":\"screen\",\"level\":\"overlay\",\"line_alpha\":{\"value\":1.0},\"line_color\":{\"value\":\"black\"},\"line_dash\":[4,4],\"line_width\":{\"value\":2},\"plot\":null,\"render_mode\":\"css\",\"right_units\":\"screen\",\"top_units\":\"screen\"},\"id\":\"b63891a6-842c-4987-ba92-4ec91a1deb6a\",\"type\":\"BoxAnnotation\"},{\"attributes\":{\"toolbar\":{\"id\":\"e9eeb599-94b1-4395-ac60-4d24eff529dd\",\"type\":\"ProxyToolbar\"},\"toolbar_location\":\"above\"},\"id\":\"be169f07-5d2c-4dfb-a0a3-ff2c23cecfcf\",\"type\":\"ToolbarBox\"},{\"attributes\":{\"callback\":null,\"column_names\":[\"l\",\"counts\",\"x\"],\"data\":{\"counts\":[42.0,40.0,96.0,907.0],\"l\":[\"Counter\",\"Counter\",\"Counter\",\"Counter\"],\"x\":[[\"10.0\",\"Counter\"],[\"20.0\",\"Counter\"],[\"30.0\",\"Counter\"],[\"100.0\",\"Counter\"]]},\"selected\":null,\"selection_policy\":null},\"id\":\"018eb082-b517-49d0-bbdb-29075d44feb6\",\"type\":\"ColumnDataSource\"},{\"attributes\":{\"end\":2,\"factors\":[\"Counter\"],\"palette\":[\"#1f77b4\"],\"start\":1},\"id\":\"b0d3eb28-e83e-408e-a493-ceb9af37ca57\",\"type\":\"CategoricalColorMapper\"}],\"root_ids\":[\"5030bb3b-35f7-4041-93a9-8a5eb4e3d958\"]},\"title\":\"Bokeh Application\",\"version\":\"0.12.15\"}}';\n",
       "          var render_items = [{\"docid\":\"847226a8-80e3-4d0f-90f1-de703fd1cbce\",\"elementid\":\"803c5363-bf7e-4f5b-afe9-e286b60095cb\",\"modelid\":\"5030bb3b-35f7-4041-93a9-8a5eb4e3d958\"}];\n",
       "          root.Bokeh.embed.embed_items(docs_json, render_items);\n",
       "        \n",
       "          }\n",
       "          if (root.Bokeh !== undefined) {\n",
       "            embed_document(root);\n",
       "          } else {\n",
       "            var attempts = 0;\n",
       "            var timer = setInterval(function(root) {\n",
       "              if (root.Bokeh !== undefined) {\n",
       "                embed_document(root);\n",
       "                clearInterval(timer);\n",
       "              }\n",
       "              attempts++;\n",
       "              if (attempts > 100) {\n",
       "                console.log(\"Bokeh: ERROR: Unable to run BokehJS code because BokehJS library is missing\")\n",
       "                clearInterval(timer);\n",
       "              }\n",
       "            }, 10, root)\n",
       "          }\n",
       "        })(window);\n",
       "      });\n",
       "    };\n",
       "    if (document.readyState != \"loading\") fn();\n",
       "    else document.addEventListener(\"DOMContentLoaded\", fn);\n",
       "  })();\n",
       "</script><div style=\"padding:5px\" id=\"pd-bkchartdiv-ddd66fc8\">\n",
       "<div class=\"bk-root\">\n",
       "    <div class=\"bk-plotdiv\" id=\"803c5363-bf7e-4f5b-afe9-e286b60095cb\"></div>\n",
       "</div></div>\n",
       "                    \n",
       "                \n",
       "        </div>"
      ],
      "text/plain": [
       "<IPython.core.display.HTML object>"
      ]
     },
     "metadata": {},
     "output_type": "display_data"
    }
   ],
   "source": [
    "display(AllVettingData)"
   ]
  },
  {
   "cell_type": "markdown",
   "metadata": {},
   "source": [
    "Now, let's look at the data we have:\n",
    "\n",
    "VETTING_LEVEL is in four different statuses:\n",
    "\n",
    "    10 - HIGH\n",
    "    \n",
    "    20 - MEDIUM\n",
    "    \n",
    "    30 - LOW\n",
    "    \n",
    "    100 - Unlabeled\n",
    "\n",
    "\n",
    "Print the total number of vetting statuses "
   ]
  },
  {
   "cell_type": "code",
   "execution_count": 9,
   "metadata": {},
   "outputs": [
    {
     "name": "stdout",
     "output_type": "stream",
     "text": [
      "The number of rows labeled high is 42.\n",
      "The number of rows labeled medium is 40.\n",
      "The number of rows labeled low is 96.\n",
      "The number of unlabeled rows is 907.\n"
     ]
    }
   ],
   "source": [
    "print('The number of rows labeled high is {}.'.format(AllVettingData.filter(AllVettingData['VETTING_LEVEL'] == 10).count()))\n",
    "print('The number of rows labeled medium is {}.'.format(AllVettingData.filter(AllVettingData['VETTING_LEVEL'] == 20).count()))\n",
    "print('The number of rows labeled low is {}.'.format(AllVettingData.filter(AllVettingData['VETTING_LEVEL'] == 30).count()))\n",
    "print('The number of unlabeled rows is {}.'.format(AllVettingData.filter(AllVettingData['VETTING_LEVEL'] == 100).count()))"
   ]
  },
  {
   "cell_type": "markdown",
   "metadata": {},
   "source": [
    "The majority of the data has not been labeled (VETTING_LABEL=100 means unvetted).  We can not use it for our training data, so filter it out.\n",
    "Print the total number of rows."
   ]
  },
  {
   "cell_type": "code",
   "execution_count": 10,
   "metadata": {},
   "outputs": [
    {
     "data": {
      "text/plain": [
       "178"
      ]
     },
     "execution_count": 10,
     "metadata": {},
     "output_type": "execute_result"
    }
   ],
   "source": [
    "LabeledVettingData=AllVettingData.filter(\"VETTING_LEVEL != 100\")\n",
    "LabeledVettingData.count()"
   ]
  },
  {
   "cell_type": "markdown",
   "metadata": {},
   "source": [
    "<a id=\"engineering\"></a>\n",
    "## Feature Engineering.\n",
    "### A feature is the elements of the data that we are using in our learning.  We need to transform each one of our features into a format that SparkML can use it.\n",
    "More about the choices for feature engineering can be found here:\n",
    "http://spark.apache.org/docs/2.0.0/ml-features.html#stringindexer\n",
    "\n",
    "\n",
    "The first thing we will do is transform our labels (VETTING_LEVEL) into a format that we can use in the algorithm, and then get back to 'human readable' from in the end. The ML models require that the labels are in a column called 'label'.    The converter helps us transform these back in the end.\n",
    "\n"
   ]
  },
  {
   "cell_type": "code",
   "execution_count": 11,
   "metadata": {},
   "outputs": [],
   "source": [
    "labelIndexer = StringIndexer(inputCol=\"VETTING_LEVEL\", outputCol=\"label\", handleInvalid=\"error\")\n",
    "labelModel = labelIndexer.fit(LabeledVettingData)\n",
    "converter = IndexToString(inputCol=\"prediction\", outputCol=\"predCategory\", labels=labelModel.labels)"
   ]
  },
  {
   "cell_type": "markdown",
   "metadata": {},
   "source": [
    "Next, we will process all of the features we will use. While there are a variety of choices for transforming elements, we will treat each as a String using the StringIndexer.\n",
    "\n",
    "StringIndexer is a transformer that encodes a string column to a column of indices. The indices are ordered by value frequencies, so the most frequent value gets index 0. If the input column is numeric, it is cast to string first.\n",
    "\n",
    "For our vetting dataset, we are interested in all string based features so we will use the StringIndexer for them.  We need to use 'handleInvalid=\"skip\"' because not all values have been validated in our vetting set.  That means the algorithms will skip these records."
   ]
  },
  {
   "cell_type": "code",
   "execution_count": 12,
   "metadata": {},
   "outputs": [],
   "source": [
    "occupationIndexer = StringIndexer(inputCol=\"OCCUPATION\", outputCol=\"occupationIndex\", handleInvalid=\"skip\")\n",
    "countryIndexer = StringIndexer(inputCol=\"PASSPORT_COUNTRY_CODE\", outputCol=\"countryIndex\", handleInvalid=\"skip\")\n",
    "genderIndexer = StringIndexer(inputCol=\"GENDER\", outputCol=\"genderIndex\", handleInvalid=\"skip\")\n",
    "yearOfBirthIndexer = StringIndexer(inputCol=\"BIRTH_YEAR\", outputCol=\"birthYearIndex\", handleInvalid=\"skip\")"
   ]
  },
  {
   "cell_type": "markdown",
   "metadata": {},
   "source": [
    "Now, put all of our features into a simple array using a VectorAssembler.\n",
    "\n",
    "Note that COUNTRIIES_VISITED_COUNT is already a numeric, so we can just put that in the array as is.\n"
   ]
  },
  {
   "cell_type": "code",
   "execution_count": 13,
   "metadata": {},
   "outputs": [],
   "source": [
    "vecAssembler = VectorAssembler(inputCols=[\"occupationIndex\",\"countryIndex\",\"genderIndex\", \"birthYearIndex\", \"COUNTRIES_VISITED_COUNT\"], outputCol=\"features\")"
   ]
  },
  {
   "cell_type": "markdown",
   "metadata": {},
   "source": [
    "Normalizer will help us normalize the features into a standard frmat.  It can help us improve the behavior of the learning algorithms.\n"
   ]
  },
  {
   "cell_type": "code",
   "execution_count": 14,
   "metadata": {},
   "outputs": [],
   "source": [
    "normalizer = Normalizer(inputCol=\"features\", outputCol=\"normFeatures\", p=1.0)"
   ]
  },
  {
   "cell_type": "markdown",
   "metadata": {},
   "source": [
    "<a id=\"model\"></a>\n",
    "## Declare the model that we want to use\n",
    "\n",
    "The model here is Naive Bayes.  It will output each prediction into a 'prediction' column.  Naive Bayes  is a probabistic model that learns based on previous decisions.  We will take a best guess at the paramater 'smoothing'- SparkML will help us tune it later!\n",
    "\n"
   ]
  },
  {
   "cell_type": "code",
   "execution_count": 15,
   "metadata": {},
   "outputs": [],
   "source": [
    "nb = NaiveBayes(smoothing=1.0, modelType=\"multinomial\", labelCol=\"label\", predictionCol=\"prediction\")"
   ]
  },
  {
   "cell_type": "markdown",
   "metadata": {},
   "source": [
    "<a id=\"pipeline\"></a>\n",
    "## Setup the Pipeline\n",
    "\n",
    "The pipeline is the guts of the algorithm that strings all the work we've done together.\n",
    "\n",
    "The stages are run in order and the input DataFrame is transformed as it passes through each stage.   First, comes the feature transformations, then the assembler to put them togather into one DF.  We pass that into the model. \n",
    "\n",
    "In machine learning, it is common to run a sequence of algorithms to process and learn from data, so this can get as complex as we want to make it!"
   ]
  },
  {
   "cell_type": "code",
   "execution_count": 16,
   "metadata": {},
   "outputs": [],
   "source": [
    "pipeline = Pipeline(stages=[labelIndexer,occupationIndexer,countryIndexer, genderIndexer, yearOfBirthIndexer, vecAssembler, normalizer, nb, converter])"
   ]
  },
  {
   "cell_type": "markdown",
   "metadata": {},
   "source": [
    "<a id=\"train\"></a>\n",
    "## Train the model\n",
    "\n",
    "We will split it into training data which is marked and test data which will be used to test the efficiency of the algorithms.\n",
    "\n",
    "It is common to split the split up the data randomly into 70% for training and 30% for testing.  If we were to use a bigger training set, we might use an 80% / 20% split."
   ]
  },
  {
   "cell_type": "code",
   "execution_count": 17,
   "metadata": {},
   "outputs": [
    {
     "name": "stdout",
     "output_type": "stream",
     "text": [
      "The number of records in the training data set is 129.\n",
      "The number of rows labeled high is 31.\n",
      "The number of rows labeled medium is 34.\n",
      "The number of rows labeled low is 64.\n",
      "\n",
      "The number of records in the test data set is 49.\n",
      "The number of rows labeled high is 11.\n",
      "The number of rows labeled medium is 6.\n",
      "The number of rows labeled low is 32.\n"
     ]
    }
   ],
   "source": [
    "train, test = LabeledVettingData.randomSplit([70.0,30.0], seed=1)\n",
    "train.cache()\n",
    "test.cache()\n",
    "print('The number of records in the training data set is {}.'.format(train.count()))\n",
    "print('The number of rows labeled high is {}.'.format(train.filter(train['VETTING_LEVEL'] == 10).count()))\n",
    "print('The number of rows labeled medium is {}.'.format(train.filter(train['VETTING_LEVEL'] == 20).count()))\n",
    "print('The number of rows labeled low is {}.'.format(train.filter(train['VETTING_LEVEL'] == 30).count()))\n",
    "print('')\n",
    "\n",
    "print('The number of records in the test data set is {}.'.format(test.count()))\n",
    "print('The number of rows labeled high is {}.'.format(test.filter(test['VETTING_LEVEL'] == 10).count()))\n",
    "print('The number of rows labeled medium is {}.'.format(test.filter(test['VETTING_LEVEL'] == 20).count()))\n",
    "print('The number of rows labeled low is {}.'.format(test.filter(test['VETTING_LEVEL'] == 30).count()))"
   ]
  },
  {
   "cell_type": "markdown",
   "metadata": {},
   "source": [
    " Fit the pipeline to the training data.  This will run the data through the algorithm to train it based on our labled data.\n",
    " \n",
    "<div class=\"panel-group\" id=\"accordion-3\">\n",
    "  <div class=\"panel panel-default\">\n",
    "    <div class=\"panel-heading\">\n",
    "      <h4 class=\"panel-title\">\n",
    "        <a data-toggle=\"collapse\" data-parent=\"#accordion-3\" href=\"#collapse-3\">\n",
    "        Solution</a>\n",
    "      </h4>\n",
    "    </div>\n",
    "    <div id=\"collapse-3\" class=\"panel-collapse collapse\">\n",
    "      <div class=\"panel-body\">Type (or copy) the following in the cell below: <br>\n",
    "          model = pipeline.fit(train)<br>\n",
    "      </div>\n",
    "    </div>\n",
    "  </div>"
   ]
  },
  {
   "cell_type": "code",
   "execution_count": 18,
   "metadata": {},
   "outputs": [],
   "source": [
    "# Fit the pipeline to the training data assigning the result to a variable called 'model'.\n",
    "model = pipeline."
   ]
  },
  {
   "cell_type": "markdown",
   "metadata": {},
   "source": [
    "Make predictions on documents in the Test data set.  This will test the model based on the 30% data we have left in reserve.  Keep in mind that the model has not seen the data in the test data set.\n",
    "\n",
    "<div class=\"panel-group\" id=\"accordion-4\">\n",
    "  <div class=\"panel panel-default\">\n",
    "    <div class=\"panel-heading\">\n",
    "      <h4 class=\"panel-title\">\n",
    "        <a data-toggle=\"collapse\" data-parent=\"#accordion-4\" href=\"#collapse-4\">\n",
    "        Solution</a>\n",
    "      </h4>\n",
    "    </div>\n",
    "    <div id=\"collapse-4\" class=\"panel-collapse collapse\">\n",
    "      <div class=\"panel-body\">Type (or copy) the following in the cell below: <br>\n",
    "          predictions = model.transform(test)<br>\n",
    "      </div>\n",
    "    </div>\n",
    "  </div>"
   ]
  },
  {
   "cell_type": "code",
   "execution_count": 19,
   "metadata": {},
   "outputs": [],
   "source": [
    "# Make predictions on the test data assigning the result to a variable called 'predictions'.\n",
    "predictions = model."
   ]
  },
  {
   "cell_type": "markdown",
   "metadata": {},
   "source": [
    "<a id=\"evaluate\"></a>\n",
    "## Show and Evaluate Results\n",
    "\n",
    "Note that we only got a small sample of the results back because we have a very small amount of training data. "
   ]
  },
  {
   "cell_type": "code",
   "execution_count": 20,
   "metadata": {},
   "outputs": [
    {
     "data": {
      "text/plain": [
       "8"
      ]
     },
     "execution_count": 20,
     "metadata": {},
     "output_type": "execute_result"
    }
   ],
   "source": [
    "predictions.count()"
   ]
  },
  {
   "cell_type": "markdown",
   "metadata": {},
   "source": [
    "SparkML has automated ways to look at result quality called Evaluators.  More information can be found here:\n",
    "http://spark.apache.org/docs/latest/mllib-evaluation-metrics.html\n",
    "\n",
    "For simplicity here, we will use a a common evaluation method called Reciever Operator Characteristic.  This genenerally is used for binary classifiers, but we will use it because we only have 3 levels of prediction.\n",
    "\n",
    "The curve is created by plotting the true positive rate against the false positive rate at various threshold settings. The ROC curve is thus the sensitivity as a function of fall-out. The area under the ROC curve is useful for comparing and selecting the best machine learning model for a given data set. A model with an area under the ROC curve score near 1 has very good performance. A model with a score near 0.5 is about as good as flipping a coin."
   ]
  },
  {
   "cell_type": "code",
   "execution_count": 21,
   "metadata": {},
   "outputs": [
    {
     "name": "stdout",
     "output_type": "stream",
     "text": [
      "Area under the ROC curve = 0.6875.\n"
     ]
    }
   ],
   "source": [
    "evaluator = BinaryClassificationEvaluator().setLabelCol(\"label\").setMetricName(\"areaUnderROC\")\n",
    "print('Area under the ROC curve = {}.'.format(evaluator.evaluate(predictions)))"
   ]
  },
  {
   "cell_type": "markdown",
   "metadata": {},
   "source": [
    "<a id=\"tuning\"></a>\n",
    "## Automatic Algorithm Tuning - Also Called  Hyperparameter Tuning\n",
    "\n",
    "\n",
    "Spark ML algorithms provide many hyperparameters for tuning models. These hyperparameters are distinct from the model parameters being optimized by Spark ML itself.  Hyperparameter tuning is accomplished by choosing the best set of parameters based on model performance on test data that the model was not trained with. All combinations of hyperparameters specified will be tried in order to find the one that leads to the model with the best evaluation result."
   ]
  },
  {
   "cell_type": "markdown",
   "metadata": {
    "collapsed": true
   },
   "source": [
    "\n",
    "First we will build a paramater grid to tell SparkML what to change in its testing.  Note that we are changing all the paramaters we setup in our pipeline before - the 'smoothing' in our model, and the normalizer parameter."
   ]
  },
  {
   "cell_type": "code",
   "execution_count": 22,
   "metadata": {},
   "outputs": [],
   "source": [
    "paramGrid = (ParamGridBuilder().addGrid(nb.smoothing, [0.25, 0.5, 0.75])\n",
    "                 .addGrid(normalizer.p, [1.0, 2.0]).build())"
   ]
  },
  {
   "cell_type": "markdown",
   "metadata": {},
   "source": [
    "Now, create a cross validator to tune the pipeline with the generated parameter grid.  Cross-validation attempts to fit the underlying estimator with user-specified combinations of parameters, cross-evaluate the fitted models, and output the best one.  "
   ]
  },
  {
   "cell_type": "code",
   "execution_count": 23,
   "metadata": {},
   "outputs": [],
   "source": [
    "cv = CrossValidator().setEstimator(pipeline).setEvaluator(evaluator).setEstimatorParamMaps(paramGrid).setNumFolds(10)"
   ]
  },
  {
   "cell_type": "markdown",
   "metadata": {},
   "source": [
    "Next, we will run the models through the grid we set above.  It runs Cross-evaluate the ML Pipeline to find the best model.  Note that since runs the model several times, it takes a few minutes to run."
   ]
  },
  {
   "cell_type": "code",
   "execution_count": 24,
   "metadata": {},
   "outputs": [
    {
     "name": "stdout",
     "output_type": "stream",
     "text": [
      "Area under the ROC curve for best fitted model = 0.75.\n"
     ]
    }
   ],
   "source": [
    "cvModel = cv.fit(train)\n",
    "print('Area under the ROC curve for best fitted model = {}.'.format(evaluator.evaluate(cvModel.transform(test))))"
   ]
  },
  {
   "cell_type": "markdown",
   "metadata": {},
   "source": [
    "Let's see what improvement we achieve by tuning the hyperparameters using cross-evaluation "
   ]
  },
  {
   "cell_type": "code",
   "execution_count": 25,
   "metadata": {},
   "outputs": [
    {
     "name": "stdout",
     "output_type": "stream",
     "text": [
      "Area under the ROC curve for non-tuned model = 0.6875.\n",
      "Area under the ROC curve for best fitted model = 0.75.\n",
      "Improvement = 9.09%\n"
     ]
    }
   ],
   "source": [
    "print('Area under the ROC curve for non-tuned model = {}.'.format(evaluator.evaluate(predictions)))\n",
    "print('Area under the ROC curve for best fitted model = {}.'.format(evaluator.evaluate(cvModel.transform(test))))\n",
    "print('Improvement = {0:0.2f}%'.format((evaluator.evaluate(cvModel.transform(test)) - evaluator.evaluate(predictions)) *100 / evaluator.evaluate(predictions)))"
   ]
  },
  {
   "cell_type": "markdown",
   "metadata": {},
   "source": [
    "We did a bit better with the new params!  Let's use \"cvModel\" instead of \"model\" below, because SparkML told us it was the best result."
   ]
  },
  {
   "cell_type": "markdown",
   "metadata": {},
   "source": [
    "<a id=\"score\"></a>\n",
    "## Score the remaining records that were unscored, and load them into a new table in the database.\n",
    "\n",
    "First, we want to only get the unvetted records."
   ]
  },
  {
   "cell_type": "code",
   "execution_count": 26,
   "metadata": {},
   "outputs": [],
   "source": [
    "NewVettingData=AllVettingData.filter(\"VETTING_LEVEL == 100\")"
   ]
  },
  {
   "cell_type": "markdown",
   "metadata": {},
   "source": [
    "Next, transform the new model with the new vetting records"
   ]
  },
  {
   "cell_type": "code",
   "execution_count": 27,
   "metadata": {},
   "outputs": [],
   "source": [
    "newPreds = cvModel.transform(NewVettingData)"
   ]
  },
  {
   "cell_type": "markdown",
   "metadata": {},
   "source": [
    " Show the data we have predicted and some of the fields in the data.  "
   ]
  },
  {
   "cell_type": "code",
   "execution_count": 28,
   "metadata": {},
   "outputs": [
    {
     "name": "stdout",
     "output_type": "stream",
     "text": [
      "+--------------------+----------+------------+--------------------+--------------------+------+-----------------------+---------------------+\n",
      "|                UUID|prediction|predCategory|         probability|                NAME|GENDER|COUNTRIES_VISITED_COUNT|PASSPORT_COUNTRY_CODE|\n",
      "+--------------------+----------+------------+--------------------+--------------------+------+-----------------------+---------------------+\n",
      "|5fcbbf15-8268-430...|       0.0|        30.0|[0.63905924852249...|Stacey Courtney G...|     F|                      1|                   GH|\n",
      "|db60dea1-442a-414...|       1.0|        10.0|[0.04395975536112...|     Sandry Santiago|     F|                      6|                   GH|\n",
      "|dd39cdbe-84f4-4a6...|       2.0|        20.0|[0.00195414590268...|          Debbie Kim|     F|                      4|                   GH|\n",
      "|652f9d66-c58f-49e...|       0.0|        30.0|[0.97219543757291...|  Sarah Kimme Miller|     F|                      5|                   GH|\n",
      "|52da6789-6445-43c...|       1.0|        10.0|[0.01603055330190...|       Barbara Wells|     F|                      2|                   GH|\n",
      "|970b1fc3-5efe-441...|       1.0|        10.0|[0.02962917249573...| Bab Maurie Chambers|     F|                      2|                   GH|\n",
      "|5711c62d-ab3c-400...|       2.0|        20.0|[4.15238757113726...|Rosemary Jennifer...|     F|                      6|                   GH|\n",
      "|71f3c319-c4bd-4b7...|       2.0|        20.0|[6.58791943252515...|       Tamma Stevens|     F|                      5|                   GH|\n",
      "|60014ea5-e996-449...|       2.0|        20.0|[0.00175654776423...|  Sheila Lee Terrell|     F|                      6|                   GH|\n",
      "|db0775a5-abca-4e1...|       1.0|        10.0|[0.00523314939811...|   Donna Juli Ramsey|     F|                      3|                   GH|\n",
      "|125ec3cb-7eb6-4c7...|       2.0|        20.0|[3.06853139687392...|  Errie Cinde Pierce|     F|                      9|                   GH|\n",
      "|d9f959d1-aa29-4e5...|       2.0|        20.0|[0.00541228077456...| Sadye Kimberly Shaw|     F|                      4|                   GH|\n",
      "|3abbb87d-d992-421...|       0.0|        30.0|[0.96854386803248...|  Tina Rebekah Meyer|     F|                      7|                   GH|\n",
      "|b0e00d09-0510-4b3...|       2.0|        20.0|[0.04158237314645...|       Sussie Porter|     F|                      5|                   GH|\n",
      "|96f1e368-bd77-442...|       1.0|        10.0|[0.41599713714902...|   Jeanie Laura Hall|     F|                      1|                   GH|\n",
      "|b5beea91-5097-42f...|       2.0|        20.0|[0.01662166435909...| Mariquilla Martinez|     F|                      9|                   GH|\n",
      "|e726ba3f-cba8-449...|       2.0|        20.0|[0.15366703775549...| Jessey Karri Rogers|     F|                      5|                   GH|\n",
      "|a56aa1ba-9406-43f...|       0.0|        30.0|[0.99377277779609...| Rhonnie Julie Eaton|     F|                      5|                   GH|\n",
      "|5cae0b9b-3b6b-49e...|       1.0|        10.0|[0.01160469285034...|   Vickie Sara Smith|     F|                      2|                   GH|\n",
      "|5f1a29df-9676-4b7...|       1.0|        10.0|[0.01876234786442...|         Tiff Joseph|     F|                      4|                   GH|\n",
      "+--------------------+----------+------------+--------------------+--------------------+------+-----------------------+---------------------+\n",
      "only showing top 20 rows\n",
      "\n"
     ]
    }
   ],
   "source": [
    "newPreds.select(\"UUID\", \"prediction\", \"predCategory\", \"probability\", \"NAME\", \"GENDER\", \"COUNTRIES_VISITED_COUNT\", \"PASSPORT_COUNTRY_CODE\" ).show()"
   ]
  },
  {
   "cell_type": "markdown",
   "metadata": {},
   "source": [
    "Remember that VETTING_LEVEL is in three different statuses:\n",
    "\n",
    "\n",
    "10- HIGH\n",
    "\n",
    "20- MEDIUM\n",
    "\n",
    "30 - LOW\n",
    "\n",
    "\n",
    "Let's print the total number of vetting statuses that we predicted.  The actual predicted data is low because we only have a few vetted records.  Remember that we had to 'skip' and features that were not in our trained data, so if we didn't have someone who was born in a certain year in our training data, we won't be able to predict a result."
   ]
  },
  {
   "cell_type": "code",
   "execution_count": 29,
   "metadata": {},
   "outputs": [
    {
     "name": "stdout",
     "output_type": "stream",
     "text": [
      "The number of records in the unvetted data set is 117.\n",
      "The number of rows labeled high is 47.\n",
      "The number of rows labeled medium is 33.\n",
      "The number of rows labeled low is 37.\n"
     ]
    }
   ],
   "source": [
    "print('The number of records in the unvetted data set is {}.'.format(newPreds.count()))\n",
    "print('The number of rows labeled high is {}.'.format(newPreds.filter(newPreds['predCategory'] == 10).count()))\n",
    "print('The number of rows labeled medium is {}.'.format(newPreds.filter(newPreds['predCategory'] == 20).count()))\n",
    "print('The number of rows labeled low is {}.'.format(newPreds.filter(newPreds['predCategory'] == 30).count()))"
   ]
  },
  {
   "cell_type": "markdown",
   "metadata": {},
   "source": [
    "<a id=\"write\"></a>\n",
    "## Write Results\n",
    "Now, downselect all the values we need to join in our next lab to display the results, and write to the database.  We will only load the unique ID and the prediction into our new table in DB2 Warehouse.  We'll call the table \"FEMALE_HUMAN_TRAFFICKING_< YOUR POSTFIX VALUE >_ML_RESULTS\""
   ]
  },
  {
   "cell_type": "code",
   "execution_count": 30,
   "metadata": {},
   "outputs": [],
   "source": [
    "valuesToWrite= newPreds.select(\"UUID\",  \"predCategory\")\n",
    "valuesToWrite.write.jdbc(db2_properties['jdbcurl'], table_name + \"_ML_RESULTS\",\n",
    "                         properties = {\"user\" : db2_properties[\"user\"], \"password\" : db2_properties[\"password\"]},\n",
    "                         mode=\"overwrite\")"
   ]
  },
  {
   "cell_type": "markdown",
   "metadata": {
    "collapsed": true
   },
   "source": [
    "<a id=\"version2\"></a>\n",
    "## Create Version \n",
    "\n",
    "Save a new version of the notebook by selecting <b>File</b> > <b>Save Version</b> \n",
    "<img alt=\"IBM Bluemix.Get started now\" src=\"https://raw.githubusercontent.com/jpatter/LMCO/master/Lab-1/images/FileOptions.PNG\" > or by selecting the <b>Versions</b> icon and selecting <b>Save Version</b>. <img alt=\"IBM Bluemix.Get started now\" src=\"https://raw.githubusercontent.com/jpatter/LMCO/master/Lab-1/images/versions-button.png\" ><br>\n",
    "You can have up to ten (10) versions of a notebook.   Notebook versions are saved in a FIFO manner."
   ]
  },
  {
   "cell_type": "markdown",
   "metadata": {},
   "source": [
    "<a id=\"schedule\"></a>\n",
    "## Schedule Job\n",
    "You can schedule a notebook version to run at specified intervals.   If a notebook version does not yet exist, one will be created for you.  If the notebook kernel was stopped when scheduled to run, it will be started.\n",
    "\n",
    "To schedule a notebook, select the <b>Schedule</b> icon.\n",
    "\n",
    "<img alt=\"IBM Bluemix.Get started now\" src=\"https://raw.githubusercontent.com/jpatter/LMCO/master/Lab-1/images/schedule-button.png\" >\n",
    "\n",
    "Give a name to the job and pick the time period to run it.   All time periods are for the timezone of the <b>browser</b> NOT the timezone of the server where the notebook is running.\n",
    "\n",
    "<img alt=\"IBM Bluemix.Get started now\" src=\"https://raw.githubusercontent.com/jpatter/LMCO/master/Lab-1/images/Schedule-Window.PNG\" >"
   ]
  },
  {
   "cell_type": "markdown",
   "metadata": {},
   "source": [
    "## Download notebook\n",
    "\n",
    "Notebooks can be downloaded in notebook (.ipynb), Python (.py), HTML (.html), markdown (.md) or reST (.rst) format.  Use <b>File</b> > <b>Download as</b> to download the notebook in any of the formats.\n",
    "\n",
    "<img alt=\"IBM Bluemix.Get started now\" src=\"https://raw.githubusercontent.com/jpatter/LMCO/master/Lab-1/images/FileOptions.PNG\" >"
   ]
  },
  {
   "cell_type": "markdown",
   "metadata": {},
   "source": [
    "<a id=\"revert\"></a>\n",
    "## Revert to version \n",
    "Revert to the version you saved at the beginning of this lab.   There are two ways to do this.   First, select <b>File</b> > <b>Revert to Version</b> and choose the version you created at the beginning of the lab (versions are timestamped).\n",
    "<img alt=\"IBM Bluemix.Get started now\" src=\"https://raw.githubusercontent.com/jpatter/LMCO/master/Lab-1/images/FileOptions.PNG\" >\n",
    "\n",
    "The second way is to select the <b>Versions</b> icon \n",
    "<img alt=\"IBM Bluemix.Get started now\" src=\"https://raw.githubusercontent.com/jpatter/LMCO/master/Lab-1/images/versions-button.png\" ><br>\n",
    "and then select the version you wish to revert to.   You can also delete versions from here.\n",
    "<img alt=\"IBM Bluemix.Get started now\" src=\"https://raw.githubusercontent.com/jpatter/LMCO/master/Lab-1/images/Versions.PNG\" >"
   ]
  },
  {
   "cell_type": "markdown",
   "metadata": {},
   "source": [
    "<a id=\"help\"></a>\n",
    "## Even more help\n",
    "\n",
    "Select the <b>Find Resources in the Community</b> link to display a search bar, documentation hotlinks, and a link to Stack Overflow's Data Science Experience section.\n",
    "\n",
    "<img alt=\"IBM Bluemix.Get started now\" src=\"https://raw.githubusercontent.com/jpatter/LMCO/master/Lab-1/images/community-button.png\" >\n",
    "\n",
    "<img alt=\"IBM Bluemix.Get started now\" src=\"https://raw.githubusercontent.com/jpatter/LMCO/master/Lab-1/images/Community-Resources.PNG\" >"
   ]
  },
  {
   "cell_type": "code",
   "execution_count": null,
   "metadata": {},
   "outputs": [],
   "source": []
  }
 ],
 "metadata": {
  "kernelspec": {
   "display_name": "Python 3.5 with Spark 2.1",
   "language": "python",
   "name": "python3-spark21"
  },
  "language_info": {
   "codemirror_mode": {
    "name": "ipython",
    "version": 3
   },
   "file_extension": ".py",
   "mimetype": "text/x-python",
   "name": "python",
   "nbconvert_exporter": "python",
   "pygments_lexer": "ipython3",
   "version": "3.5.4"
  }
 },
 "nbformat": 4,
 "nbformat_minor": 1
}
